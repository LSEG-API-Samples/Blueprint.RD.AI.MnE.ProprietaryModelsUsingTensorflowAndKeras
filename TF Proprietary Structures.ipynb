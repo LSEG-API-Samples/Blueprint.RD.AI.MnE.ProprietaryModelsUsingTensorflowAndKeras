{
 "cells": [
  {
   "cell_type": "code",
   "execution_count": 22,
   "id": "e70a8966",
   "metadata": {},
   "outputs": [],
   "source": [
    "import tensorflow as tf\n",
    "import matplotlib.pyplot as plt"
   ]
  },
  {
   "cell_type": "code",
   "execution_count": 2,
   "id": "d632a53c",
   "metadata": {},
   "outputs": [
    {
     "name": "stdout",
     "output_type": "stream",
     "text": [
      "tf.Tensor(\n",
      "[[[[1. 1. 1. 1.]\n",
      "   [1. 1. 1. 1.]]\n",
      "\n",
      "  [[1. 1. 1. 1.]\n",
      "   [1. 1. 1. 1.]]\n",
      "\n",
      "  [[1. 1. 1. 1.]\n",
      "   [1. 1. 1. 1.]]]], shape=(1, 3, 2, 4), dtype=float32)\n"
     ]
    }
   ],
   "source": [
    "t = tf.ones([1,3,2,4])\n",
    "print(t)"
   ]
  },
  {
   "cell_type": "code",
   "execution_count": 3,
   "id": "3b79748e",
   "metadata": {},
   "outputs": [
    {
     "name": "stdout",
     "output_type": "stream",
     "text": [
      "tf.Tensor([2 2 2], shape=(3,), dtype=int32)\n"
     ]
    }
   ],
   "source": [
    "a = tf.constant([1, 1, 1])\n",
    "b = tf.constant([2])\n",
    "print(a * b)"
   ]
  },
  {
   "cell_type": "code",
   "execution_count": 24,
   "id": "0530e8ce",
   "metadata": {},
   "outputs": [],
   "source": [
    "w = tf.Variable(tf.random.normal((3, 2)), name = 'weights')\n",
    "x = [[1., 1., 1.]]\n",
    "b = tf.Variable(tf.zeros(2, dtype = tf.float32), name='biases')\n",
    "\n",
    "with tf.GradientTape(persistent=True) as tape:\n",
    "    y = tf.matmul(x, w) + b\n",
    "y= tf.nn.sigmoid(y)  "
   ]
  },
  {
   "cell_type": "code",
   "execution_count": 25,
   "id": "a52722be",
   "metadata": {},
   "outputs": [
    {
     "name": "stdout",
     "output_type": "stream",
     "text": [
      "tf.Tensor([[0.8336704 0.5998972]], shape=(1, 2), dtype=float32)\n"
     ]
    }
   ],
   "source": [
    "print(y)"
   ]
  },
  {
   "cell_type": "code",
   "execution_count": 26,
   "id": "9f2686fd",
   "metadata": {},
   "outputs": [
    {
     "data": {
      "text/plain": [
       "['weights:0', 'biases:0']"
      ]
     },
     "execution_count": 26,
     "metadata": {},
     "output_type": "execute_result"
    }
   ],
   "source": [
    "[v.name for v in tape.watched_variables()]"
   ]
  },
  {
   "cell_type": "code",
   "execution_count": 27,
   "id": "386faa2c",
   "metadata": {},
   "outputs": [
    {
     "name": "stdout",
     "output_type": "stream",
     "text": [
      "[<tf.Tensor: shape=(3, 2), dtype=float32, numpy=\n",
      "array([[0.13866408, 0.24002054],\n",
      "       [0.13866408, 0.24002054],\n",
      "       [0.13866408, 0.24002054]], dtype=float32)>, <tf.Tensor: shape=(2,), dtype=float32, numpy=array([0.13866408, 0.24002054], dtype=float32)>]\n"
     ]
    }
   ],
   "source": [
    "gradients = tape.gradient(y, [w, b])\n",
    "print(gradients)"
   ]
  },
  {
   "cell_type": "code",
   "execution_count": 36,
   "id": "e76523f6",
   "metadata": {},
   "outputs": [],
   "source": [
    "class MyDense(tf.keras.layers.Layer):\n",
    "    def __init__(self, output_features, **kwargs):\n",
    "        super().__init__(**kwargs)\n",
    "        self.output_features = output_features\n",
    "    \n",
    "    def build(self, input_shape):\n",
    "        self.w = tf.Variable(tf.random.normal((input_shape[-1], self.output_features)), name = 'weights')\n",
    "        self.b = tf.Variable(tf.zeros(self.output_features, dtype = tf.float32), name='biases')\n",
    "    \n",
    "    def call(self, inputs):\n",
    "        return tf.nn.sigmoid(tf.matmul(inputs, self.w) + self.b)"
   ]
  },
  {
   "cell_type": "code",
   "execution_count": 37,
   "id": "e878c56f",
   "metadata": {},
   "outputs": [],
   "source": [
    "my_dense = MyDense(output_features = 3)"
   ]
  },
  {
   "cell_type": "code",
   "execution_count": 38,
   "id": "4eda78c3",
   "metadata": {},
   "outputs": [
    {
     "data": {
      "text/plain": [
       "<tf.Tensor: shape=(2, 3), dtype=float32, numpy=\n",
       "array([[0.65940213, 0.33986932, 0.6029423 ],\n",
       "       [0.7893917 , 0.20953123, 0.6975124 ]], dtype=float32)>"
      ]
     },
     "execution_count": 38,
     "metadata": {},
     "output_type": "execute_result"
    }
   ],
   "source": [
    "my_dense(tf.constant([[1., 1., 1.], [2., 2., 2.]]))"
   ]
  },
  {
   "cell_type": "code",
   "execution_count": 43,
   "id": "54a04781",
   "metadata": {},
   "outputs": [],
   "source": [
    "class MyModel(tf.keras.Model):\n",
    "    def __init__(self, **kwargs):\n",
    "        super().__init__(**kwargs)\n",
    "    \n",
    "        self.layer_1 = MyDense(output_features = 3)\n",
    "        self.layer_2 = MyDense(output_features = 1)\n",
    "        \n",
    "    def call(self, input):\n",
    "        return self.layer_1(self.layer_2(input))"
   ]
  },
  {
   "cell_type": "code",
   "execution_count": 44,
   "id": "5c03cfb3",
   "metadata": {},
   "outputs": [
    {
     "data": {
      "text/plain": [
       "<tf.Tensor: shape=(2, 3), dtype=float32, numpy=\n",
       "array([[0.73259264, 0.51657116, 0.31847566],\n",
       "       [0.7387214 , 0.51708895, 0.31333414]], dtype=float32)>"
      ]
     },
     "execution_count": 44,
     "metadata": {},
     "output_type": "execute_result"
    }
   ],
   "source": [
    "my_custom_model = MyModel()\n",
    "my_custom_model(tf.constant([[1., 1., 1.], [2., 2., 2.]]))"
   ]
  },
  {
   "cell_type": "code",
   "execution_count": 45,
   "id": "aae9d418",
   "metadata": {},
   "outputs": [
    {
     "name": "stdout",
     "output_type": "stream",
     "text": [
      "Model: \"my_model\"\n",
      "_________________________________________________________________\n",
      "Layer (type)                 Output Shape              Param #   \n",
      "=================================================================\n",
      "my_dense_3 (MyDense)         multiple                  6         \n",
      "_________________________________________________________________\n",
      "my_dense_4 (MyDense)         multiple                  4         \n",
      "=================================================================\n",
      "Total params: 10\n",
      "Trainable params: 10\n",
      "Non-trainable params: 0\n",
      "_________________________________________________________________\n"
     ]
    }
   ],
   "source": [
    "my_custom_model.summary()"
   ]
  },
  {
   "cell_type": "code",
   "execution_count": 59,
   "id": "ef087fee",
   "metadata": {},
   "outputs": [],
   "source": [
    "@tf.custom_gradient\n",
    "def f(x):\n",
    "    def grad(upstream):\n",
    "        return upstream * 2 * x\n",
    "    return x**2, grad"
   ]
  },
  {
   "cell_type": "code",
   "execution_count": 60,
   "id": "04f5cb97",
   "metadata": {},
   "outputs": [
    {
     "name": "stdout",
     "output_type": "stream",
     "text": [
      "[<tf.Tensor 'gradients_7/IdentityN_5_grad/mul_1:0' shape=() dtype=float32>]\n"
     ]
    }
   ],
   "source": [
    "tf.compat.v1.disable_eager_execution()\n",
    "x = tf.constant(100.)\n",
    "y = f(x)\n",
    "dy_dx= tf.gradients(y, x)\n",
    "print(dy_dx)"
   ]
  },
  {
   "cell_type": "code",
   "execution_count": null,
   "id": "8a7d5490",
   "metadata": {},
   "outputs": [],
   "source": []
  }
 ],
 "metadata": {
  "kernelspec": {
   "display_name": "Python 3 (ipykernel)",
   "language": "python",
   "name": "python3"
  },
  "language_info": {
   "codemirror_mode": {
    "name": "ipython",
    "version": 3
   },
   "file_extension": ".py",
   "mimetype": "text/x-python",
   "name": "python",
   "nbconvert_exporter": "python",
   "pygments_lexer": "ipython3",
   "version": "3.7.11"
  }
 },
 "nbformat": 4,
 "nbformat_minor": 5
}
